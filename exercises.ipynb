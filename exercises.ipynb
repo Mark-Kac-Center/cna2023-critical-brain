{
 "cells": [
  {
   "cell_type": "code",
   "execution_count": 1,
   "metadata": {
    "collapsed": true
   },
   "outputs": [
    {
     "name": "stdout",
     "output_type": "stream",
     "text": [
      "Cloning into 'cna2023-critical-brain'...\n",
      "remote: Enumerating objects: 309, done.\u001b[K\n",
      "remote: Counting objects: 100% (72/72), done.\u001b[K\n",
      "remote: Compressing objects: 100% (39/39), done.\u001b[K\n",
      "remote: Total 309 (delta 45), reused 55 (delta 33), pack-reused 237\u001b[K\n",
      "Receiving objects: 100% (309/309), 38.43 MiB | 5.34 MiB/s, done.\n",
      "Resolving deltas: 100% (152/152), done.\n"
     ]
    }
   ],
   "source": [
    "# setup colab\n",
    "!git clone https://github.com/Mark-Kac-Center/cna2023-critical-brain.git\n",
    "import sys\n",
    "sys.path.insert(0,'cna2023-critical-brain')\n",
    "!ln -s cna2023-critical-brain/example_data example_data"
   ]
  },
  {
   "cell_type": "code",
   "execution_count": 32,
   "metadata": {},
   "outputs": [],
   "source": [
    "import matplotlib.pyplot as plt\n",
    "import numpy as np\n",
    "from tqdm import tqdm # for printing progress bars"
   ]
  },
  {
   "cell_type": "markdown",
   "metadata": {},
   "source": [
    "# The concept of criticality"
   ]
  },
  {
   "cell_type": "markdown",
   "metadata": {},
   "source": [
    "## 1.1 Magnetization\n",
    "Throughout the workshop we will use a module `workshops` containing useful function. Use the `workshops.IsingModel` class to simulate an Ising model for several values of temperature on a 20x25 lattice. You should create a two-dimensional lattice for the model using the `workshops.Grid.grid_2d` method.\n",
    "\n",
    "Take the temperatures in an interval `[0.1, 4.0]`, decide how many points to take based on the simulation time for a single temp. You have to specify the number of time steps (1000 should be enough), and create a simple loop to aggregate the results.\n",
    "\n",
    "**Tip**: IsingModel class has a simple method for simulation: `simulate()`\n",
    "\n",
    "The magnetization at time *t* can be calculated as an average over all spins:\n",
    "$$M = \\frac{1}{N}\\sum_i \\sigma_i $$\n",
    "Plot the final time-averaged magnetization vs the temperature. You should get something like:\n",
    "![image](plots/ising_magnetization.png)\n",
    "\n",
    "**Tip**: In case you are running out of time to run the simulation (it takes ~5 min on a laptop/colab for 20 temp values), you can load simulation data `example_data/ising_dynamics.npz` with `np.load`."
   ]
  },
  {
   "cell_type": "code",
   "execution_count": null,
   "metadata": {},
   "outputs": [],
   "source": [
    "#### code here"
   ]
  },
  {
   "cell_type": "markdown",
   "metadata": {},
   "source": [
    "## 1.2 Snapshots\n",
    "To see a detailed picture of the Ising system on a microscopic level, plot two or three states of the lattice (\"snapshots\") for small, large and moderate temperatures. Where is the transition? Can you identify it by looking at the snapshots?\n",
    "\n",
    "The results should look similarly to these:\n",
    "![image](plots/ising_snap1.png)\n",
    "![image](plots/ising_snap2.png)\n",
    "![image](plots/ising_snap3.png)\n"
   ]
  },
  {
   "cell_type": "code",
   "execution_count": 2,
   "metadata": {},
   "outputs": [],
   "source": [
    "#### code here"
   ]
  },
  {
   "cell_type": "markdown",
   "metadata": {},
   "source": [
    "## 1.3 Binomial model (*)\n",
    "Consider the Binomial Model, a variation of the Ising model where the spins are independent of each other and each is drawn from a specially crafted binomial distribution. \n",
    "\n",
    "Investigate the magnetization in this case. Use the same temperature interval as before but decrease the step to `0.05` and set a smaller `n_steps=100`. Can you spot significant differences between the Ising and Binomial models? What happened here, is our Binomial model critical?\n",
    "\n",
    "To ensure you have a complete picture, plot the snapshots and discuss differences between the Binomial and Ising models.\n",
    "\n",
    "**Tip**: In case you are running out of time to run the simulation (it takes ~5 min on a laptop/colab), you can load simulation data for the Binomial model `example_data/binomial_dynamics.npz` with `np.load`."
   ]
  },
  {
   "cell_type": "code",
   "execution_count": 4,
   "metadata": {},
   "outputs": [],
   "source": [
    "# a Binomial model\n",
    "from workshops import IsingModel\n",
    "\n",
    "class BinomialModel(IsingModel):\n",
    "    \n",
    "    def __init__(self,*args,**kwargs):\n",
    "        super().__init__(*args,**kwargs)\n",
    "        self.n_transient = 0\n",
    "        \n",
    "    def sweep(self,s: dict) -> None:\n",
    "        p = 1/2*(self.calc_mag(T = self.T,J = self.J)+1)\n",
    "        \n",
    "        for n in s.keys():\n",
    "            s[n] = -(2*np.random.binomial(n=1,p=p)-1)\n",
    "        "
   ]
  },
  {
   "cell_type": "code",
   "execution_count": null,
   "metadata": {},
   "outputs": [],
   "source": [
    "#### code here"
   ]
  },
  {
   "cell_type": "markdown",
   "metadata": {},
   "source": [
    "# Towards a brain model\n",
    "\n"
   ]
  },
  {
   "cell_type": "markdown",
   "metadata": {},
   "source": [
    "## 2.1 Haimovici model\n",
    "\n",
    "We turn to the Haimovici model of the brain confusingly called `workshops.SERModel`. To make it run, we to load a graph on which the neurons live. We use a healthy human connectome (or adjacency matrix) `hagmann_connectome.npz`.  Plot it to see how the connections are distributed (using `plt.spy`). What do you see clearly?\n",
    "\n",
    "Run the Haimovici model simulation for `n_steps=2000` time steps (or more if you wish!). The threshold parameter should vary between `[0.01,0.2]`.\n",
    "\n",
    "The output matrix nodes can have 3 states:\n",
    "* active (excited) nodes are represented by 1,\n",
    "* refractory nodes are represented by -1,\n",
    "* inactive (susceptible) nodes are represented by 0.\n",
    "\n",
    "Plot a set of magnetizations for each sub-population of neurons using the function `plt.fill_between` similar to this: \n",
    "\n",
    "![image](plots/brain_magnetization.png)\n",
    "\n",
    "Provide correct labels for each neuron population with `plt.text`. Can you spot the transition? Is it critical?\n"
   ]
  },
  {
   "cell_type": "code",
   "execution_count": 20,
   "metadata": {},
   "outputs": [],
   "source": [
    "#### code here"
   ]
  },
  {
   "cell_type": "markdown",
   "metadata": {},
   "source": [
    "## 2.2 Temperature or threshold? \n",
    "\n",
    "The Ising model has a temperature while the Haimovici model has a threshold parameter. Both are confusingly called T but are they similar in interpretation?\n",
    "\n",
    "Perhaps the easiest is to plot temporal dynamics for both models in all three sub-, critical- and super-critical parameter regimes. To this end, pick a single spin/neuron. What do you observe as the temperature changes?\n",
    "\n",
    "**Tip**: Plots of the spin sub-populations in the Ising model (similar to 2.1) can also be helpful."
   ]
  },
  {
   "cell_type": "code",
   "execution_count": null,
   "metadata": {},
   "outputs": [],
   "source": [
    "#### code here"
   ]
  },
  {
   "cell_type": "markdown",
   "metadata": {},
   "source": [
    "## 2.3 Artificial connectomes\n",
    "\n",
    "OK, so what about artificial connectomes? Instead of human connectome, you can try Watts-Strogatz: write a function generating an artificial connectome based on the weighted Watts-Strogatz graph. Draw the distribution of weights from an exponential distribution with scale factor of $1/12.5$ (this approximates the weights found in a real human connectome).\n",
    "\n",
    "The Watts-Strogatz graphs can be easily created using `nx.watts_strogatz_graph` and `nx.adjacency_matrix` to extract the adjacency matrix.\n",
    "\n",
    "Create two *Watts-Strogatz connectomes* with 2000 nodes; one with mean number of neighbours `k=10`, second with `k=2`. The *rewiring* probability should be around `p=0.5`.\n",
    "\n",
    "Try plotting the fractions of active/refractory/inactive nodes creating a plot similar to one above. Are there any differences?\n",
    "\n",
    "**Tip**: If you run into problems with creating your own routine for the Watts-Strogatz connectome, you can use the function `workshops.watts_strogatz_connectome`."
   ]
  },
  {
   "cell_type": "code",
   "execution_count": 21,
   "metadata": {},
   "outputs": [],
   "source": [
    "#### code here"
   ]
  },
  {
   "cell_type": "markdown",
   "metadata": {},
   "source": [
    "# Criticality in the Haimovici model\n",
    "\n"
   ]
  },
  {
   "cell_type": "markdown",
   "metadata": {},
   "source": [
    "## 3.1 Clusters in the Ising model\n",
    "Find the clusters in the Ising model. Use the previously used grid graph in Ex. 1.1 and the Ising model snapshots plotted in Ex. 1.2. \n",
    "\n",
    "**Tips**:\n",
    "In case you cannot figure out how to start on your own, we suggest a path to follow:\n",
    "1) The adjacency matrix `nx.adjacency_matrix(network).toarray()` and a flatten snapshot `snapshot.flatten()` have matching indices. \n",
    "2) Use the flattened snapshot to form a binary mask of the adjacency matrix which leaves only the connections where both spins are alike.\n",
    "3) From the resulting masked adjacency matrix, form a new graph using `nx.from_numpy_array(adj)`.\n",
    "4) Find connected components of the graph via `nx.connected_components`.\n",
    "5) The result is a list of index sets being part of the clusters. Warning: they're not ordered!\n",
    "\n",
    "Take the Ising model snapshot near $T = T_c$. Using the algorithm above, plot using `plt.imshow` the snapshot and color the largest cluster. How large is the second-largest cluster in comparison? What about $ T < T_c$? \n",
    "\n",
    "**Tip**: If this part was too hard, we provide a function `workshops.plot_color_clusters` which does the cluster coloring for you."
   ]
  },
  {
   "cell_type": "code",
   "execution_count": 27,
   "metadata": {},
   "outputs": [],
   "source": [
    "#### code here"
   ]
  },
  {
   "cell_type": "markdown",
   "metadata": {},
   "source": [
    "## 3.2 Criticality indicators in the Haimovici model\n",
    "\n",
    "Find the cluster sizes in the Haimovici model. Use a predefined function `workshops.batch_clusters`. Try plotting the average size of the largest cluster vs. threshold. What is the difference between the largest cluster and the second largest cluster?\n",
    "\n",
    "Find the standard deviation of the total activity. Next prepare a function which computes the autocorrelation coefficient at lat $\\tau=1$. Do these quantities have something in common?\n",
    "\n",
    "**Tip**: Autocorrelation can be found using `np.corrcoef` and `np.roll`."
   ]
  },
  {
   "cell_type": "code",
   "execution_count": 26,
   "metadata": {},
   "outputs": [],
   "source": [
    "#### code here"
   ]
  },
  {
   "cell_type": "markdown",
   "metadata": {},
   "source": [
    "## 3.3 Detective work\n",
    "A numpy file `example_data/mystery_simulation.npz` contains simulation data from an unknown source. The file also contains indicators of criticality like the cluster sizes, autocorrelation and standard deviation of the activity. By inspecting these quantities and based on previous examples, can you infer the most likely criticality status of this uknown system? What is the deciding factor?"
   ]
  },
  {
   "cell_type": "code",
   "execution_count": 164,
   "metadata": {},
   "outputs": [],
   "source": [
    "#### code here"
   ]
  },
  {
   "cell_type": "markdown",
   "metadata": {},
   "source": [
    "# Playing around\n",
    "\n"
   ]
  },
  {
   "cell_type": "markdown",
   "metadata": {},
   "source": [
    "## 4.1 Lobotomy\n",
    "Try to disconnect the hemispheres in the human connectome. Note that left hemisphere is represented by nodes from 0 to 498, right hemisphere by nodes 499 to 998.\n",
    "\n",
    "`Spy` on the adjacency matrix to ensure your procedure was correct. Then, using the connectome with disconnected hemispheres run Haimovici simulations and check the criticality using clusters and other methods (e.g. std. dev. of activity)."
   ]
  },
  {
   "cell_type": "code",
   "execution_count": null,
   "metadata": {},
   "outputs": [],
   "source": [
    "#### code here"
   ]
  },
  {
   "cell_type": "markdown",
   "metadata": {},
   "source": [
    "## 4.2 Stroke\n",
    "Artificial Stroke: remove connections between Sensory-Motor RSN (labelled by 4) and the rest of the brain. Check the criticality of the system using activity measure, e.g. standard deviation of the total activity, and compare with result computed using second largest cluster size.\n",
    "\n",
    "\n",
    "Try also other labels:\n",
    "\n",
    "VisM (Medial Visual) - 1\n",
    "VisL (Lateral Visual) - 2\n",
    "Aud (Auditory) - 3\n",
    "SM (Sensory-Motor) - 4\n",
    "DMN (Default Mode Network) - 5\n",
    "EC (Executive Control) - 6\n",
    "DorL (Dorsal Visual Stream Left) - 7\n",
    "DorR (Dorsal Visual Stream Right) - 8\n",
    "\n",
    "\n"
   ]
  },
  {
   "cell_type": "code",
   "execution_count": null,
   "metadata": {},
   "outputs": [],
   "source": [
    "#### code here"
   ]
  },
  {
   "cell_type": "markdown",
   "metadata": {},
   "source": [
    "## 4.3 Epilepsy\n",
    "Enchance connectome connections by a constant value. Find the criticality using different measures and compare them with the healthy connectome."
   ]
  },
  {
   "cell_type": "code",
   "execution_count": 29,
   "metadata": {},
   "outputs": [],
   "source": [
    "#### code here"
   ]
  }
 ],
 "metadata": {
  "kernelspec": {
   "display_name": "Python 3 (ipykernel)",
   "language": "python",
   "name": "python3"
  },
  "language_info": {
   "codemirror_mode": {
    "name": "ipython",
    "version": 3
   },
   "file_extension": ".py",
   "mimetype": "text/x-python",
   "name": "python",
   "nbconvert_exporter": "python",
   "pygments_lexer": "ipython3",
   "version": "3.7.7"
  }
 },
 "nbformat": 4,
 "nbformat_minor": 1
}
