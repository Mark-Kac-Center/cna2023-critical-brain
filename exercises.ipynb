{
 "cells": [
  {
   "cell_type": "code",
   "execution_count": 1,
   "metadata": {},
   "outputs": [],
   "source": [
    "import matplotlib.pyplot as plt\n",
    "import numpy as np\n",
    "from tqdm import tqdm # for printing progress bars"
   ]
  },
  {
   "cell_type": "markdown",
   "metadata": {},
   "source": [
    "# The concept of criticality"
   ]
  },
  {
   "cell_type": "markdown",
   "metadata": {},
   "source": [
    "## 1.1 Magnetization\n",
    "Use the IsingModel class (from the `workshops` package) to simulate an Ising model for several values of temperature on a 20x25 lattice. You should create a two-dimensional lattice for the model using the `Grid.grid_2d` method.\n",
    "\n",
    "Take the temperatures in interval [0.1, 4.0]. You have to specify the number of time steps (1000 or 2000 should be enough), and create a simple loop to aggregate the results.\n",
    "\n",
    "Tip: IsingModel class has a simple method for simulation: simulate()\n",
    "\n",
    "The magnetization at time *t* can be calculated as a average of all spins of the lattice:\n",
    "$$M = \\frac{1}{N}\\sum_i \\sigma_i $$\n",
    "Then, average the magnetization over time and plot the averages versus temperature. You should get something looking like this:\n",
    "![image](plots/ising_magnetization.png)\n",
    "\n",
    "Tip: In case you are running out of time to run the simulation (it takes around 3 min on a laptop/colab), you can load simulation data `example_data/ising_dynamics.npz` with `np.load`."
   ]
  },
  {
   "cell_type": "code",
   "execution_count": null,
   "metadata": {},
   "outputs": [],
   "source": [
    "#### code here"
   ]
  },
  {
   "cell_type": "markdown",
   "metadata": {},
   "source": [
    "## 1.2 Snapshots\n",
    "To see in more detail what happens in the Ising system on a microscopic level. Plot two or three states of the lattice (\"snapshots\") for small temperature around 0.5, for large temperature ~4.0, and for temperature near the transition T = 2.3.\n",
    "\n",
    "The results should look similarly to these:\n",
    "![image](plots/ising_snap1.png)\n",
    "![image](plots/ising_snap2.png)\n",
    "![image](plots/ising_snap3.png)\n"
   ]
  },
  {
   "cell_type": "code",
   "execution_count": 2,
   "metadata": {},
   "outputs": [],
   "source": [
    "#### code here"
   ]
  },
  {
   "cell_type": "markdown",
   "metadata": {},
   "source": [
    "## 1.3 Binomial model (*)\n",
    "Consider the Binomial Model, a variation of the Ising model where the spins are independent of each other and drawn from a specially crafted binomial distribution. \n",
    "\n",
    "Investigate the magnetization in this case. Can you spot differences between the Ising and Binomial models? What happened here, is our Binomial model critical?\n",
    "\n",
    "To ensure you have a complete picture, show again the snapshots and describe any differences Binomial and Ising models.\n",
    "\n",
    "Tip: In case you are running out of time to run the simulation (it takes around 3 min on a laptop/colab), you can load simulation data for the Binomial model `example_data/binomial_dynamics.npz` with `np.load`."
   ]
  },
  {
   "cell_type": "code",
   "execution_count": 4,
   "metadata": {},
   "outputs": [],
   "source": [
    "# a binomial model\n",
    "from workshops import IsingModel\n",
    "\n",
    "class BinomialModel(IsingModel):\n",
    "    \n",
    "    def __init__(self,*args,**kwargs):\n",
    "        super().__init__(*args,**kwargs)\n",
    "        \n",
    "    def sweep(self,s: dict) -> None:\n",
    "        p = 1/2*(self.calc_mag(T = self.T,J = self.J)+1)\n",
    "        \n",
    "        for n in s.keys():\n",
    "            s[n] = -(2*np.random.binomial(n=1,p=p)-1)\n",
    "        "
   ]
  },
  {
   "cell_type": "code",
   "execution_count": null,
   "metadata": {},
   "outputs": [],
   "source": [
    "#### code here"
   ]
  },
  {
   "cell_type": "markdown",
   "metadata": {},
   "source": [
    "# Towards a brain model\n",
    "\n"
   ]
  },
  {
   "cell_type": "markdown",
   "metadata": {},
   "source": [
    "## 2.1 Haimovici model\n",
    "\n",
    "Consider the Haimovici model. First, load a human connectome (adjacency matrix) `hagmann_connectome.npz` and *spy* on it to see how the connections are distributed (using `spy` function from `matplotlib.pyplot`). What do you see clearly?\n",
    "\n",
    "Then, run Haimovici model simulation for `n_steps=2000` time steps (or more if you wish!). The threshold parameter should vary between [0.01,0.2].\n",
    "\n",
    "The output matrix nodes can have 3 states:\n",
    "* active (excited) nodes are represented by 1,\n",
    "* refractory nodes are represented by -1,\n",
    "* inactive (susceptible) nodes are represented by 0.\n",
    "\n",
    "Plot a set of magnetizations for each sub-population of neurons using the function `plt.fill_between` (provide correct labels!) similar to this: \n",
    "\n",
    "![image](plots/brain_magnetization.png)\n",
    "\n",
    "\n",
    "\n"
   ]
  },
  {
   "cell_type": "code",
   "execution_count": 20,
   "metadata": {},
   "outputs": [],
   "source": [
    "#### code here"
   ]
  },
  {
   "cell_type": "markdown",
   "metadata": {},
   "source": [
    "## 2.2 Temperature or threshold? \n",
    "\n",
    "How is the threshold parameter of Haimovici model different from the temperature used in the Ising model?\n",
    "\n",
    "Tip: Investigate temporal dynamics in all three sub-, critical- and super-critical parameter regimes.\n",
    "\n",
    "Tip: Alternatively, you can plot sub-populations in the Ising model."
   ]
  },
  {
   "cell_type": "code",
   "execution_count": null,
   "metadata": {},
   "outputs": [],
   "source": [
    "#### code here"
   ]
  },
  {
   "cell_type": "markdown",
   "metadata": {},
   "source": [
    "## 2.3 Artificial connectomes\n",
    "\n",
    "What about artificial connectomes? Try Watts-Strogatz: create a function creates an artificial connectome based on Watts-Strogatz graph but with weights of connections from a real human connectome. The distribution of connections is approximately an exponential distribution with scale factor of $1/12.5$.\n",
    "\n",
    "The Watts-Strogatz graphs can be easily created using `watts_strogatz_graph` from `networkx` library.\n",
    "Create two *Watts-Strogatz connectomes* with 2000 nodes; one with mean number of neighbours 10, second with 2. The *rewiring* factor should be around 0.5.\n",
    "\n",
    "Try plotting the fractions of active/refractory/inactive nodes creating a plot similar to one above.\n",
    "\n",
    "Tip: If you run into problems with creating your own routine for the Watts-Strogatz connectome, you can use the function `workshops.watts_strogatz_connectome`."
   ]
  },
  {
   "cell_type": "code",
   "execution_count": 21,
   "metadata": {},
   "outputs": [],
   "source": [
    "#### code here"
   ]
  },
  {
   "cell_type": "markdown",
   "metadata": {},
   "source": [
    "# Criticality in the Haimovici model\n",
    "\n"
   ]
  },
  {
   "cell_type": "markdown",
   "metadata": {},
   "source": [
    "## 3.1 Own clustering algorithm (*)\n",
    "Use `networkx` library to write a function that computes the size of the largest and second-largest clusters in a system. The cluster is defined as a set of active nodes which are connected via the connectome.\n",
    "\n",
    "Tip: use `networkx`'s function `connected_components` which finds all connected components of a graph."
   ]
  },
  {
   "cell_type": "code",
   "execution_count": 28,
   "metadata": {},
   "outputs": [],
   "source": [
    "#### code here"
   ]
  },
  {
   "cell_type": "markdown",
   "metadata": {},
   "source": [
    "## 3.2 Clusters in the Ising model\n",
    "Take the Ising model for low temperature, e.g. $T=1.5$ (remember about the magnetization plot from the first exercise), and plot the snapshots of the lattice spins. What are the sizes of the largest cluster and second largest clusters?\n",
    "\n",
    "What about $T = T_c$?\n"
   ]
  },
  {
   "cell_type": "code",
   "execution_count": 27,
   "metadata": {},
   "outputs": [],
   "source": [
    "#### code here"
   ]
  },
  {
   "cell_type": "markdown",
   "metadata": {},
   "source": [
    "## 3.3 Criticality indicators in the Haimovici model\n",
    "\n",
    "Find the cluster sizes in the Haimovici model. Use a predefined function `workshops.batch_clusters`. Try plotting the average size of the largest cluster vs. threshold. What is the difference between the largest cluster and the second largest cluster?\n",
    "\n",
    "Find the standard deviation of the total activity. Next prepare a function which computes the autocorrelation coefficient at lat $\\tau=1$. Do these quantities have something in common? What about the clusters?"
   ]
  },
  {
   "cell_type": "code",
   "execution_count": 26,
   "metadata": {},
   "outputs": [],
   "source": [
    "#### code here"
   ]
  },
  {
   "cell_type": "markdown",
   "metadata": {},
   "source": [
    "## 3.5 Detective work\n",
    "Load file with activities, thresholds, and computed clusters. Can you say whether the system is critical?"
   ]
  },
  {
   "cell_type": "code",
   "execution_count": 164,
   "metadata": {},
   "outputs": [],
   "source": [
    "#### code here"
   ]
  },
  {
   "cell_type": "markdown",
   "metadata": {},
   "source": [
    "# Playing around\n",
    "\n"
   ]
  },
  {
   "cell_type": "markdown",
   "metadata": {},
   "source": [
    "## 4.1 Lobotomy\n",
    "Try to disconnect the hemispheres in the human connectome. Note that left hemisphere is represented by nodes from 0 to 498, right hemisphere by nodes 499 to 998.\n",
    "\n",
    "`Spy` on the adjacency matrix to check the difference. Then, using the connectome with disconnected hemispheres run simulations and check the criticality using clusters and other methods (e.g. std. dev. of activity)."
   ]
  },
  {
   "cell_type": "code",
   "execution_count": null,
   "metadata": {},
   "outputs": [],
   "source": [
    "#### code here"
   ]
  },
  {
   "cell_type": "markdown",
   "metadata": {},
   "source": [
    "## 4.2 Stroke\n",
    "Artificial Stroke: remove connections between Sensory-Motor RSN (labelled by 4) and the rest of the brain. Check the criticality of the system using activity measure, e.g. standard deviation of the total activity, and compare with result computed using second largest cluster size.\n",
    "\n",
    "\n",
    "Try also other labels:\n",
    "\n",
    "VisM (Medial Visual) - 1\n",
    "VisL (Lateral Visual) - 2\n",
    "Aud (Auditory) - 3\n",
    "SM (Sensory-Motor) - 4\n",
    "DMN (Default Mode Network) - 5\n",
    "EC (Executive Control) - 6\n",
    "DorL (Dorsal Visual Stream Left) - 7\n",
    "DorR (Dorsal Visual Stream Right) - 8\n",
    "\n",
    "\n"
   ]
  },
  {
   "cell_type": "code",
   "execution_count": null,
   "metadata": {},
   "outputs": [],
   "source": [
    "#### code here"
   ]
  },
  {
   "cell_type": "markdown",
   "metadata": {},
   "source": [
    "## 4.3 Epilepsy\n",
    "Enchance connectome connections by a constant value. Find the criticality using different measures and compare them with the healthy connectome."
   ]
  },
  {
   "cell_type": "code",
   "execution_count": 29,
   "metadata": {},
   "outputs": [],
   "source": [
    "#### code here"
   ]
  }
 ],
 "metadata": {
  "kernelspec": {
   "display_name": "Python 3 (ipykernel)",
   "language": "python",
   "name": "python3"
  },
  "language_info": {
   "codemirror_mode": {
    "name": "ipython",
    "version": 3
   },
   "file_extension": ".py",
   "mimetype": "text/x-python",
   "name": "python",
   "nbconvert_exporter": "python",
   "pygments_lexer": "ipython3",
   "version": "3.7.7"
  }
 },
 "nbformat": 4,
 "nbformat_minor": 1
}
