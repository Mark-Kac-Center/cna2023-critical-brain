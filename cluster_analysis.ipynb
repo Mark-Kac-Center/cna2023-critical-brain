{
 "cells": [
  {
   "cell_type": "code",
   "execution_count": 50,
   "id": "70c1db44",
   "metadata": {},
   "outputs": [],
   "source": [
    "import os\n",
    "import numpy as np\n",
    "import networkx as nx\n",
    "import matplotlib.pyplot as plt\n",
    "\n",
    "from clusters_htc import batch_clusters\n",
    "from clusters_ising import batch_clusters_ising"
   ]
  },
  {
   "cell_type": "markdown",
   "id": "e979cc08",
   "metadata": {},
   "source": [
    "# HTC model example: clusters for SM RSN disconnected in  Hagmann conn. "
   ]
  },
  {
   "cell_type": "code",
   "execution_count": 34,
   "id": "1cca47bf",
   "metadata": {},
   "outputs": [
    {
     "name": "stdout",
     "output_type": "stream",
     "text": [
      "HTC simulation ouput file contains two objects  ['activation_matrix', 'Ts']\n"
     ]
    }
   ],
   "source": [
    "# load simulation output\n",
    "data = np.load(\"sims/hagmann_disconnected_rsn_4/output.npz\")\n",
    "print(\"HTC simulation ouput file contains two objects \", data.files)"
   ]
  },
  {
   "cell_type": "code",
   "execution_count": 35,
   "id": "0b6ce243",
   "metadata": {},
   "outputs": [],
   "source": [
    "# read thresholds and activity matrix\n",
    "Ts = data['Ts']\n",
    "act = data['activation_matrix']\n",
    "\n",
    "# create 'rsn' and 'the rest' masks on the full adj. matrix\n",
    "connectome = np.loadtxt(\"sims/hagmann_disconnected_rsn_4/connection_matrix.dat\")\n",
    "\n",
    "roi_labels = np.load(\"hagmann_connectome.npz\")['roi_lbs']\n",
    "\n",
    "rsn_mask = roi_labels == 4.0\n",
    "rest_mask = roi_labels != 4.0\n",
    "\n",
    "adj_full = connectome\n",
    "adj_rsn = connectome[rsn_mask][::,rsn_mask]\n",
    "adj_rest = connectome[rest_mask][::,rest_mask]\n",
    "\n",
    "act_rsn = act[:, rsn_mask]\n",
    "act_rest = act[:, rest_mask]"
   ]
  },
  {
   "cell_type": "code",
   "execution_count": 36,
   "id": "42af713a",
   "metadata": {
    "scrolled": false
   },
   "outputs": [
    {
     "name": "stderr",
     "output_type": "stream",
     "text": [
      "100%|██████████████████████████████████████████████████████████████████████████████████████████████████████████████████████████████████████████████████████████████████████████████████████████████████████████████| 30/30 [00:11<00:00,  2.55it/s]\n",
      "100%|██████████████████████████████████████████████████████████████████████████████████████████████████████████████████████████████████████████████████████████████████████████████████████████████████████████████| 30/30 [02:01<00:00,  4.05s/it]\n",
      "100%|██████████████████████████████████████████████████████████████████████████████████████████████████████████████████████████████████████████████████████████████████████████████████████████████████████████████| 30/30 [02:06<00:00,  4.21s/it]\n"
     ]
    }
   ],
   "source": [
    "# compute clusters (in batches for all Ts)\n",
    "\n",
    "clusters_rsn = batch_clusters(act_rsn, adj_rsn)\n",
    "clusters_rest = batch_clusters(act_rest, adj_rest)\n",
    "clusters_full = batch_clusters(act, adj_full)"
   ]
  },
  {
   "cell_type": "code",
   "execution_count": 37,
   "id": "4ce1f43b",
   "metadata": {},
   "outputs": [
    {
     "name": "stdout",
     "output_type": "stream",
     "text": [
      "(30,) (30, 10)\n"
     ]
    }
   ],
   "source": [
    "# clusters are averaged, by default computes 10 largest clusters\n",
    "print(Ts.shape, clusters_rsn.shape)"
   ]
  },
  {
   "cell_type": "code",
   "execution_count": 43,
   "id": "80db2255",
   "metadata": {},
   "outputs": [
    {
     "data": {
      "image/png": "[encoded data removed]",
      "text/plain": [
       "<Figure size 432x288 with 1 Axes>"
      ]
     },
     "metadata": {
      "needs_background": "light"
     },
     "output_type": "display_data"
    }
   ],
   "source": [
    "# Plot clusters analogously to Fig.8:\n",
    "#     S2 for the total system\n",
    "#     S2 for \"the rest\"\n",
    "#     S1 for the RSN\n",
    "\n",
    "plt.plot(Ts, clusters_full[:,1], \"C0-\", label='$S_2$')\n",
    "plt.plot(Ts, clusters_rest[:,1], \"C1-\", label='$S_2^A$')\n",
    "plt.plot(Ts, clusters_rsn[:,0], \"C2--\", label='$S_1^B$')\n",
    "plt.xlim(0.01,0.125)\n",
    "plt.xlabel(\"threshold\")\n",
    "plt.ylabel(\"cluster size\")\n",
    "\n",
    "plt.legend();"
   ]
  },
  {
   "cell_type": "code",
   "execution_count": 48,
   "id": "5f093100",
   "metadata": {},
   "outputs": [],
   "source": [
    "# save the results\n",
    "\n",
    "def dict_result(cl, ts):\n",
    "    data = dict()\n",
    "    data['Ts'] = ts\n",
    "    data['clusters'] = cl\n",
    "    return data\n",
    "\n",
    "clusters_rsn_dict = dict_result(clusters_rsn, Ts)\n",
    "clusters_rest_dict = dict_result(clusters_rest, Ts)\n",
    "clusters_full_dict = dict_result(clusters_full, Ts)\n",
    "\n",
    "dir_name = 'analyses/hagmann_disconnected_rsn_4/'\n",
    "np.savez_compressed(os.path.join(dir_name, \"clusters_rsn_data.npz\"), **clusters_rsn_dict)\n",
    "np.savez_compressed(os.path.join(dir_name, \"clusters_rest_data.npz\"), **clusters_rest_dict)\n",
    "np.savez_compressed(os.path.join(dir_name, \"clusters_full_data.npz\"), **clusters_full_dict)\n"
   ]
  },
  {
   "cell_type": "markdown",
   "id": "6d8cc111",
   "metadata": {},
   "source": [
    "# Ising example:  micro 16x16 system sliced into 80 vs 176 spins"
   ]
  },
  {
   "cell_type": "code",
   "execution_count": 51,
   "id": "1ca94f0d",
   "metadata": {},
   "outputs": [],
   "source": [
    "data = np.load(\"sims/ising_sliced_16x16/output.npz\")\n",
    "Ts = data[\"Ts\"]\n",
    "activity = data['activation_matrix']"
   ]
  },
  {
   "cell_type": "code",
   "execution_count": 54,
   "id": "895b16d8",
   "metadata": {},
   "outputs": [],
   "source": [
    "connectivity = np.load(\"connection_matrices/ising_sliced_16x16_frac=1.0_nonperiodic.npz\", allow_pickle=True)\n",
    "L = 16\n",
    "mask_a = connectivity[\"subsystems\"].reshape((L,L))\n",
    "mask_b = 1-mask_a"
   ]
  },
  {
   "cell_type": "code",
   "execution_count": 57,
   "id": "a31275ed",
   "metadata": {},
   "outputs": [
    {
     "name": "stderr",
     "output_type": "stream",
     "text": [
      "100%|██████████████████████████████████████████████████████████████████████████████████████████████████████████████████████████████████████████████████████████████████████████████████████████████████████████████| 46/46 [00:26<00:00,  1.77it/s]\n",
      "100%|██████████████████████████████████████████████████████████████████████████████████████████████████████████████████████████████████████████████████████████████████████████████████████████████████████████████| 46/46 [00:30<00:00,  1.52it/s]\n"
     ]
    }
   ],
   "source": [
    "clusters_a = batch_clusters_ising(activity, mask_a, n_clusters=50)\n",
    "clusters_b = batch_clusters_ising(activity, mask_b, n_clusters=50)"
   ]
  },
  {
   "cell_type": "code",
   "execution_count": 60,
   "id": "4a03661e",
   "metadata": {},
   "outputs": [],
   "source": [
    "# put together results of subsystems to get the clustrs in the full system\n",
    "# ATTENTION: this works only for fully disconnected subsystems!\n",
    "clusters_full = np.concatenate((clusters_a, clusters_b), axis=2)\n",
    "clusters_full = np.sort(clusters_full, axis=2)[:, :, ::-1]"
   ]
  },
  {
   "cell_type": "code",
   "execution_count": 63,
   "id": "026f9c1e",
   "metadata": {},
   "outputs": [
    {
     "name": "stdout",
     "output_type": "stream",
     "text": [
      "(46,) (46, 5000, 50)\n"
     ]
    }
   ],
   "source": [
    "# clusters are NOT averaged, by default computes 10 largest clusters\n",
    "print(Ts.shape, clusters_a.shape)"
   ]
  },
  {
   "cell_type": "code",
   "execution_count": 69,
   "id": "5abc3622",
   "metadata": {},
   "outputs": [
    {
     "data": {
      "image/png": "[encoded data removed]",
      "text/plain": [
       "<Figure size 432x288 with 1 Axes>"
      ]
     },
     "metadata": {
      "needs_background": "light"
     },
     "output_type": "display_data"
    }
   ],
   "source": [
    "# plot clusters vs. temperature like in Fig 2 (small system size effect clearly visible!)\n",
    "\n",
    "plt.plot(Ts, clusters_a.mean(axis=1)[:,0],\"C0--\", label='$S_1^A$')\n",
    "plt.plot(Ts, clusters_b.mean(axis=1)[:,0], \"C1--\", label='$S_1^B$')\n",
    "\n",
    "plt.plot(Ts, clusters_a.mean(axis=1)[:,1], \"C0-\", label='$S_2^A$')\n",
    "plt.plot(Ts, clusters_b.mean(axis=1)[:,1], \"C1-\", label='$S_2^B$')\n",
    "\n",
    "plt.xlabel('temperature')\n",
    "plt.ylabel('cluster size')\n",
    "plt.legend();"
   ]
  },
  {
   "cell_type": "code",
   "execution_count": null,
   "id": "af358249",
   "metadata": {},
   "outputs": [],
   "source": []
  }
 ],
 "metadata": {
  "kernelspec": {
   "display_name": "Python 3 (ipykernel)",
   "language": "python",
   "name": "python3"
  },
  "language_info": {
   "codemirror_mode": {
    "name": "ipython",
    "version": 3
   },
   "file_extension": ".py",
   "mimetype": "text/x-python",
   "name": "python",
   "nbconvert_exporter": "python",
   "pygments_lexer": "ipython3",
   "version": "3.9.13"
  }
 },
 "nbformat": 4,
 "nbformat_minor": 5
}
